{
 "cells": [
  {
   "cell_type": "code",
   "execution_count": 2,
   "id": "5747aa74",
   "metadata": {},
   "outputs": [],
   "source": [
    "import os\n",
    "import datetime\n",
    "import csv\n",
    "from datetime import datetime"
   ]
  },
  {
   "cell_type": "code",
   "execution_count": 18,
   "id": "b343f114",
   "metadata": {
    "scrolled": true
   },
   "outputs": [
    {
     "name": "stdout",
     "output_type": "stream",
     "text": [
      "Enter the location: kapurthala\n",
      "API request successful!\n",
      "JSON response:\n",
      "{'coord': {'lon': 75.3847, 'lat': 31.3794}, 'weather': [{'id': 800, 'main': 'Clear', 'description': 'clear sky', 'icon': '01d'}], 'base': 'stations', 'main': {'temp': 47.37, 'feels_like': 43.07, 'temp_min': 47.37, 'temp_max': 47.37, 'pressure': 994, 'humidity': 7, 'sea_level': 994, 'grnd_level': 969}, 'visibility': 10000, 'wind': {'speed': 5.08, 'deg': 317, 'gust': 5.93}, 'clouds': {'all': 0}, 'dt': 1716715615, 'sys': {'country': 'IN', 'sunrise': 1716681405, 'sunset': 1716731678}, 'timezone': 19800, 'id': 1267911, 'name': 'Kapurthala Town', 'cod': 200}\n",
      "Weather in Kapurthala Town:\n",
      "Temperature: 47.37°C\n",
      "Condition: Clear sky\n"
     ]
    }
   ],
   "source": [
    "import requests\n",
    "import csv\n",
    "from datetime import datetime\n",
    "\n",
    "def test_weather_api(api_key, location):\n",
    "    url = f\"http://api.openweathermap.org/data/2.5/weather?q={location}&appid={api_key}&units=metric\"\n",
    "    response = requests.get(url)\n",
    "    \n",
    "    if response.status_code == 200:\n",
    "        print(\"API request successful!\")\n",
    "        data = response.json()\n",
    "        print(\"JSON response:\")\n",
    "        print(data)\n",
    "    else:\n",
    "        print(f\"API request failed with status code: {response.status_code}\")\n",
    "\n",
    "def get_weather(api_key, location):\n",
    "    url = f\"http://api.openweathermap.org/data/2.5/weather?q={location}&appid={api_key}&units=metric\"\n",
    "    response = requests.get(url)\n",
    "    if response.status_code == 200:\n",
    "        return response.json()\n",
    "    else:\n",
    "        return None\n",
    "\n",
    "def get_location():\n",
    "    location = input(\"Enter the location: \")\n",
    "    if location.strip() == \"\":\n",
    "        print(\"Invalid location. Please try again.\")\n",
    "        return None\n",
    "    return location\n",
    "\n",
    "def display_weather(data):\n",
    "    if data:\n",
    "        city = data['name']\n",
    "        temperature = data['main']['temp']\n",
    "        weather = data['weather'][0]['description']\n",
    "        print(f\"Weather in {city}:\")\n",
    "        print(f\"Temperature: {temperature}°C\")\n",
    "        print(f\"Condition: {weather.capitalize()}\")\n",
    "    else:\n",
    "        print(\"Error: Unable to fetch weather data.\")\n",
    "\n",
    "def save_weather_data(file_name, data):\n",
    "    with open(file_name, mode='a', newline='') as file:\n",
    "        writer = csv.writer(file)\n",
    "        city = data['name']\n",
    "        temperature = data['main']['temp']\n",
    "        weather = data['weather'][0]['description']\n",
    "        date_time = datetime.now().strftime(\"%Y-%m-%d %H:%M:%S\")\n",
    "        writer.writerow([date_time, city, temperature, weather])\n",
    "\n",
    "def main():\n",
    "    api_key = 'dd33e0dd6a07defee634189afba6c01e'  \n",
    "    file_name = 'weather_data.csv'\n",
    "    \n",
    "    location = get_location()\n",
    "    if not location:\n",
    "        return\n",
    "    \n",
    "    test_weather_api(api_key, location)  \n",
    "\n",
    "    data = get_weather(api_key, location)\n",
    "    if data:\n",
    "        display_weather(data)\n",
    "        save_weather_data(file_name, data)\n",
    "    else:\n",
    "        print(\"Error: Invalid location or API request failed.\")\n",
    "\n",
    "if __name__ == \"__main__\":\n",
    "    main()\n"
   ]
  },
  {
   "cell_type": "code",
   "execution_count": null,
   "id": "b4ec76aa",
   "metadata": {},
   "outputs": [],
   "source": []
  },
  {
   "cell_type": "code",
   "execution_count": null,
   "id": "8d6ac8b5",
   "metadata": {},
   "outputs": [],
   "source": []
  }
 ],
 "metadata": {
  "kernelspec": {
   "display_name": "basicPython",
   "language": "python",
   "name": "basicpython"
  },
  "language_info": {
   "codemirror_mode": {
    "name": "ipython",
    "version": 3
   },
   "file_extension": ".py",
   "mimetype": "text/x-python",
   "name": "python",
   "nbconvert_exporter": "python",
   "pygments_lexer": "ipython3",
   "version": "3.11.3"
  }
 },
 "nbformat": 4,
 "nbformat_minor": 5
}
